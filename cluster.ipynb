{
 "cells": [
  {
   "cell_type": "code",
   "execution_count": 20,
   "id": "f64b333b-7fb6-4d95-b276-3da40b2d4d7e",
   "metadata": {},
   "outputs": [],
   "source": [
    "import pandas as pd\n",
    "import wbgapi as wb\n",
    "import numpy as np\n",
    "import sklearn.cluster as cluster\n",
    "\n",
    "import matplotlib.pyplot as plt\n",
    "%matplotlib inline"
   ]
  },
  {
   "cell_type": "code",
   "execution_count": 21,
   "id": "f957d9d5-5eaa-4e08-a3a0-8d626a75e854",
   "metadata": {},
   "outputs": [],
   "source": [
    "def norm(array):\n",
    "    \"\"\" Returns array normalised to [0,1]. Array can be a numpy array \n",
    "    or a column of a dataframe\"\"\"\n",
    "\n",
    "    min_val = np.min(array)\n",
    "    max_val = np.max(array)\n",
    "    \n",
    "    scaled = (array-min_val) / (max_val-min_val)\n",
    "    \n",
    "    return scaled\n",
    "\n",
    "\n",
    "def norm_df(df):\n",
    "    \"\"\" \n",
    "    Returns all columns of the dataframe normalised to [0,1] with the \n",
    "    exception the first (containing the names)\n",
    "    Calls function norm to do the normalisation of one column, but\n",
    "    doing all in one function is also fine. \n",
    "    \"\"\"\n",
    "    \n",
    "    # iterate over all columns\n",
    "    for col in df.columns[1:]:     # excluding the first column\n",
    "        df[col] = norm(df[col])\n",
    "        \n",
    "    return df"
   ]
  },
  {
   "cell_type": "code",
   "execution_count": 22,
   "id": "181cbf2d-38d2-4e12-aaaa-662ee8c4735a",
   "metadata": {},
   "outputs": [],
   "source": [
    "country_codes = ['EGY','MDG','NGA','CHN','IND','JPN','QAT','ITA','ESP','FRA','DEU']"
   ]
  },
  {
   "cell_type": "code",
   "execution_count": 201,
   "id": "21d99492-7686-448e-9f95-df1930b92a06",
   "metadata": {},
   "outputs": [],
   "source": [
    "# write your code here\n",
    "\n",
    "# indicators for getting data related to specified indicator\n",
    "indicator_ids= ['FI.RES.TOTL.CD','NY.GDP.PCAP.CD','SP.POP.GROW','DT.NFL.MIBR.CD']\n",
    "\n",
    "# mapping a readable name to each indicators to avoid confusion\n",
    "indicator_dict = {\n",
    "    'FI.RES.TOTL.CD':'RES',\n",
    "    'NY.GDP.PCAP.CD':'GDP',\n",
    "    'SP.POP.GROW' : 'POP',\n",
    "    'DT.NFL.MIBR.CD':'DEBT'\n",
    "}"
   ]
  },
  {
   "cell_type": "code",
   "execution_count": 202,
   "id": "cfd9e9b0-3552-425a-a9a3-fde164db5e0d",
   "metadata": {},
   "outputs": [
    {
     "data": {
      "text/plain": [
       "True"
      ]
     },
     "execution_count": 202,
     "metadata": {},
     "output_type": "execute_result"
    }
   ],
   "source": [
    "raw_df  = wb.data.DataFrame(indicator_ids, country_codes, time=range(1981, 1990))\n",
    "df = raw_df\n",
    "# print(df)\n",
    "df.reset_index()\n",
    "df = df.reset_index(level=['economy', 'series'])\n",
    "df = df.set_axis(['country','indicators','2012','2013','2014','2015','2016','2017','2018','2019','2020'], axis=1)\n",
    "df = df.set_index('indicators')\n",
    "df = df.rename(index=indicator_dict)\n",
    "df = df.reset_index(level=['indicators'])\n",
    "df = df.set_index(['country','indicators'])\n",
    "stacked = df.stack()\n",
    "df = stacked.unstack('indicators')\n",
    "df['DEBT'].isnull().values.any()"
   ]
  },
  {
   "cell_type": "code",
   "execution_count": 192,
   "id": "68a947f7-0bd3-4da8-a7b6-620790c96884",
   "metadata": {},
   "outputs": [
    {
     "data": {
      "text/html": [
       "<div>\n",
       "<style scoped>\n",
       "    .dataframe tbody tr th:only-of-type {\n",
       "        vertical-align: middle;\n",
       "    }\n",
       "\n",
       "    .dataframe tbody tr th {\n",
       "        vertical-align: top;\n",
       "    }\n",
       "\n",
       "    .dataframe thead th {\n",
       "        text-align: right;\n",
       "    }\n",
       "</style>\n",
       "<table border=\"1\" class=\"dataframe\">\n",
       "  <thead>\n",
       "    <tr style=\"text-align: right;\">\n",
       "      <th></th>\n",
       "      <th>indicators</th>\n",
       "      <th>GDP</th>\n",
       "      <th>R&amp;D</th>\n",
       "      <th>RES</th>\n",
       "    </tr>\n",
       "    <tr>\n",
       "      <th>country</th>\n",
       "      <th></th>\n",
       "      <th></th>\n",
       "      <th></th>\n",
       "      <th></th>\n",
       "    </tr>\n",
       "  </thead>\n",
       "  <tbody>\n",
       "    <tr>\n",
       "      <th rowspan=\"5\" valign=\"top\">CHN</th>\n",
       "      <th>2012</th>\n",
       "      <td>197.071474</td>\n",
       "      <td>0.141523</td>\n",
       "      <td>0.080811</td>\n",
       "    </tr>\n",
       "    <tr>\n",
       "      <th>2013</th>\n",
       "      <td>203.334920</td>\n",
       "      <td>0.158204</td>\n",
       "      <td>0.137257</td>\n",
       "    </tr>\n",
       "    <tr>\n",
       "      <th>2014</th>\n",
       "      <td>225.431929</td>\n",
       "      <td>0.155792</td>\n",
       "      <td>0.158730</td>\n",
       "    </tr>\n",
       "    <tr>\n",
       "      <th>2015</th>\n",
       "      <td>250.713969</td>\n",
       "      <td>0.144231</td>\n",
       "      <td>0.170345</td>\n",
       "    </tr>\n",
       "    <tr>\n",
       "      <th>2016</th>\n",
       "      <td>294.458849</td>\n",
       "      <td>0.148549</td>\n",
       "      <td>0.135090</td>\n",
       "    </tr>\n",
       "    <tr>\n",
       "      <th>...</th>\n",
       "      <th>...</th>\n",
       "      <td>...</td>\n",
       "      <td>...</td>\n",
       "      <td>...</td>\n",
       "    </tr>\n",
       "    <tr>\n",
       "      <th rowspan=\"5\" valign=\"top\">ZAF</th>\n",
       "      <th>2016</th>\n",
       "      <td>1807.976468</td>\n",
       "      <td>0.255901</td>\n",
       "      <td>0.015041</td>\n",
       "    </tr>\n",
       "    <tr>\n",
       "      <th>2017</th>\n",
       "      <td>2015.813567</td>\n",
       "      <td>0.244940</td>\n",
       "      <td>0.017900</td>\n",
       "    </tr>\n",
       "    <tr>\n",
       "      <th>2018</th>\n",
       "      <td>2582.494672</td>\n",
       "      <td>0.235879</td>\n",
       "      <td>0.027585</td>\n",
       "    </tr>\n",
       "    <tr>\n",
       "      <th>2019</th>\n",
       "      <td>2711.515300</td>\n",
       "      <td>0.231472</td>\n",
       "      <td>0.017496</td>\n",
       "    </tr>\n",
       "    <tr>\n",
       "      <th>2020</th>\n",
       "      <td>2756.212148</td>\n",
       "      <td>0.233207</td>\n",
       "      <td>0.017425</td>\n",
       "    </tr>\n",
       "  </tbody>\n",
       "</table>\n",
       "<p>108 rows × 3 columns</p>\n",
       "</div>"
      ],
      "text/plain": [
       "indicators            GDP       R&D       RES\n",
       "country                                      \n",
       "CHN     2012   197.071474  0.141523  0.080811\n",
       "        2013   203.334920  0.158204  0.137257\n",
       "        2014   225.431929  0.155792  0.158730\n",
       "        2015   250.713969  0.144231  0.170345\n",
       "        2016   294.458849  0.148549  0.135090\n",
       "...                   ...       ...       ...\n",
       "ZAF     2016  1807.976468  0.255901  0.015041\n",
       "        2017  2015.813567  0.244940  0.017900\n",
       "        2018  2582.494672  0.235879  0.027585\n",
       "        2019  2711.515300  0.231472  0.017496\n",
       "        2020  2756.212148  0.233207  0.017425\n",
       "\n",
       "[108 rows x 3 columns]"
      ]
     },
     "execution_count": 192,
     "metadata": {},
     "output_type": "execute_result"
    }
   ],
   "source": [
    "df = norm_df(df)\n",
    "df"
   ]
  },
  {
   "cell_type": "code",
   "execution_count": 193,
   "id": "7038b96c-49a5-4b92-a58c-6321a8390977",
   "metadata": {},
   "outputs": [
    {
     "data": {
      "image/png": "[encoded data removed]",
      "text/plain": [
       "<Figure size 360x360 with 1 Axes>"
      ]
     },
     "metadata": {
      "needs_background": "light"
     },
     "output_type": "display_data"
    }
   ],
   "source": [
    "def makeplot(df, col1, col2):\n",
    "    \"\"\"\n",
    "    Produces a square plot of two columns of dataframe df using small circle \n",
    "    symbols.\n",
    "    \"\"\"\n",
    "    \n",
    "    plt.figure(figsize=(5.0,5.0))\n",
    "    plt.plot(df[col1], df[col2], \"o\", markersize=3)\n",
    "    \n",
    "    plt.xlabel(col1)\n",
    "    plt.ylabel(col2)\n",
    "    plt.show()\n",
    "    \n",
    "    \n",
    "# exploratory plots\n",
    "makeplot(df, \"GDP\", \"RES\")\n",
    "# makeplot(df, \"maternal_death\", \"out_pocket_expe\")\n",
    "# makeplot(df, \"YR2011\", \"YR2019\")"
   ]
  },
  {
   "cell_type": "code",
   "execution_count": 196,
   "id": "c574e7dc-a18c-4afb-9eb7-acb808f6e982",
   "metadata": {},
   "outputs": [
    {
     "data": {
      "image/png": "[encoded data removed]",
      "text/plain": [
       "<Figure size 360x360 with 1 Axes>"
      ]
     },
     "metadata": {
      "needs_background": "light"
     },
     "output_type": "display_data"
    }
   ],
   "source": [
    "####### kmeans set up the clusterer, 4 expected clusters\n",
    "kmeans = cluster.KMeans(n_clusters=4)\n",
    "\n",
    "# extract columns for fitting\n",
    "df_fit = df[[\"GDP\", \"RES\"]].copy()\n",
    "kmeans.fit(df_fit)     \n",
    "\n",
    "# extract labels and cluster centres\n",
    "labels = kmeans.labels_\n",
    "cen = kmeans.cluster_centers_\n",
    "\n",
    "# plot using the labels to select colour\n",
    "plt.figure(figsize=(5.0,5.0))\n",
    "\n",
    "col = [\"blue\", \"red\", \"green\", \"magenta\"]\n",
    "for l in range(4):     # loop over the different labels\n",
    "    plt.plot(df_fit[\"GDP\"][labels==l], df_fit[\"RES\"][labels==l], \"o\", markersize=3, color=col[l])\n",
    "    \n",
    "# show cluster centres\n",
    "for ic in range(4):\n",
    "    xc, yc = cen[ic,:]\n",
    "    plt.plot(xc, yc, \"dk\", markersize=10)\n",
    "    \n",
    "plt.xlabel(\"GDP\")\n",
    "plt.ylabel(\"RES\")\n",
    "plt.show()"
   ]
  },
  {
   "cell_type": "code",
   "execution_count": null,
   "id": "64673abc-c31a-4abc-8f6a-c4b8150d3c94",
   "metadata": {},
   "outputs": [],
   "source": []
  }
 ],
 "metadata": {
  "kernelspec": {
   "display_name": "Python 3 (ipykernel)",
   "language": "python",
   "name": "python3"
  },
  "language_info": {
   "codemirror_mode": {
    "name": "ipython",
    "version": 3
   },
   "file_extension": ".py",
   "mimetype": "text/x-python",
   "name": "python",
   "nbconvert_exporter": "python",
   "pygments_lexer": "ipython3",
   "version": "3.9.7"
  }
 },
 "nbformat": 4,
 "nbformat_minor": 5
}
