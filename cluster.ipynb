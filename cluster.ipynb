{
 "cells": [
  {
   "cell_type": "code",
   "execution_count": 1,
   "id": "f64b333b-7fb6-4d95-b276-3da40b2d4d7e",
   "metadata": {},
   "outputs": [],
   "source": [
    "import pandas as pd\n",
    "import wbgapi as wb\n",
    "import numpy as np\n",
    "import sklearn.cluster as cluster\n",
    "\n",
    "import matplotlib.pyplot as plt\n",
    "%matplotlib inline"
   ]
  },
  {
   "cell_type": "code",
   "execution_count": 183,
   "id": "f957d9d5-5eaa-4e08-a3a0-8d626a75e854",
   "metadata": {},
   "outputs": [],
   "source": [
    "def norm(array):\n",
    "    \"\"\" Returns array normalised to [0,1]. Array can be a numpy array \n",
    "    or a column of a dataframe\"\"\"\n",
    "\n",
    "    min_val = np.min(array)\n",
    "    max_val = np.max(array)\n",
    "    \n",
    "    scaled = (array-min_val) / (max_val-min_val)\n",
    "    \n",
    "    return scaled\n",
    "\n",
    "\n",
    "def norm_df(df):\n",
    "    \"\"\" \n",
    "    Returns all columns of the dataframe normalised to [0,1] with the \n",
    "    exception the first (containing the names)\n",
    "    Calls function norm to do the normalisation of one column, but\n",
    "    doing all in one function is also fine. \n",
    "    \"\"\"\n",
    "    \n",
    "    # iterate over all columns\n",
    "    for col in df.columns[1:]:     # excluding the first column\n",
    "        df[col] = norm(df[col])\n",
    "        \n",
    "    return df"
   ]
  },
  {
   "cell_type": "code",
   "execution_count": 184,
   "id": "181cbf2d-38d2-4e12-aaaa-662ee8c4735a",
   "metadata": {},
   "outputs": [],
   "source": [
    "country_codes = ['EGY','MDG','NGA','IND','JPN','QAT','ITA','ESP','FRA','DEU']"
   ]
  },
  {
   "cell_type": "code",
   "execution_count": 185,
   "id": "21d99492-7686-448e-9f95-df1930b92a06",
   "metadata": {},
   "outputs": [],
   "source": [
    "# write your code here\n",
    "\n",
    "# indicators for getting data related to specified indicator\n",
    "indicator_ids= ['FI.RES.TOTL.CD','NY.GDP.PCAP.CD','SP.POP.GROW','PA.NUS.FCRF','NY.GDP.PETR.RT.ZS','PA.NUS.ATLS','PA.NUS.PPP']\n",
    "\n",
    "# mapping a readable name to each indicators to avoid confusion\n",
    "indicator_dict = {\n",
    "    'FI.RES.TOTL.CD':'TOTAL_RESERVE',\n",
    "    'NY.GDP.PCAP.CD':'GDP',\n",
    "    'SP.POP.GROW' : 'POPULATION',\n",
    "    'PA.NUS.FCRF':'EXCHANGE_RATE',\n",
    "    'NY.GDP.PETR.RT.ZS':'OIL_RENT',\n",
    "    'PA.NUS.ATLS':'AGRIC',\n",
    "    'PA.NUS.PPP' : 'AGRIC1'\n",
    "}"
   ]
  },
  {
   "cell_type": "code",
   "execution_count": 186,
   "id": "5c659c6f-8fa0-4ccb-bf9d-5f43d516909f",
   "metadata": {},
   "outputs": [
    {
     "data": {
      "text/html": [
       "<div class=\"wbgapi\"><table>\n",
       "<thead>\n",
       "<tr><th>id               </th><th>value                                               </th></tr>\n",
       "</thead>\n",
       "<tbody>\n",
       "<tr><td>PA.NUS.ATLS      </td><td>DEC alternative conversion factor (LCU per US$)     </td></tr>\n",
       "<tr><td>NY.GDP.PCAP.CD   </td><td>GDP per capita (current US$)                        </td></tr>\n",
       "<tr><td>PA.NUS.FCRF      </td><td>Official exchange rate (LCU per US$, period average)</td></tr>\n",
       "<tr><td>NY.GDP.PETR.RT.ZS</td><td>Oil rents (% of GDP)                                </td></tr>\n",
       "<tr><td>SP.POP.GROW      </td><td>Population growth (annual %)                        </td></tr>\n",
       "<tr><td>PA.NUS.PPP       </td><td>PPP conversion factor, GDP (LCU per international $)</td></tr>\n",
       "<tr><td>FI.RES.TOTL.CD   </td><td>Total reserves (includes gold, current US$)         </td></tr>\n",
       "<tr><td>                 </td><td>7 elements                                          </td></tr>\n",
       "</tbody>\n",
       "</table></div>"
      ],
      "text/plain": [
       "id                 value\n",
       "-----------------  ----------------------------------------------------\n",
       "PA.NUS.ATLS        DEC alternative conversion factor (LCU per US$)\n",
       "NY.GDP.PCAP.CD     GDP per capita (current US$)\n",
       "PA.NUS.FCRF        Official exchange rate (LCU per US$, period average)\n",
       "NY.GDP.PETR.RT.ZS  Oil rents (% of GDP)\n",
       "SP.POP.GROW        Population growth (annual %)\n",
       "PA.NUS.PPP         PPP conversion factor, GDP (LCU per international $)\n",
       "FI.RES.TOTL.CD     Total reserves (includes gold, current US$)\n",
       "                   7 elements"
      ]
     },
     "execution_count": 186,
     "metadata": {},
     "output_type": "execute_result"
    }
   ],
   "source": [
    "wb.series.info(indicator_ids)"
   ]
  },
  {
   "cell_type": "code",
   "execution_count": 187,
   "id": "cfd9e9b0-3552-425a-a9a3-fde164db5e0d",
   "metadata": {},
   "outputs": [
    {
     "name": "stdout",
     "output_type": "stream",
     "text": [
      "series           AGRIC    AGRIC1  EXCHANGE_RATE           GDP   OIL_RENT  \\\n",
      "economy                                                                    \n",
      "DEU     YR1980  0.9294       NaN       1.817667  12138.308103   0.066456   \n",
      "        YR1981  1.1555       NaN       2.260000  10209.073115   0.058495   \n",
      "        YR1982  1.2407       NaN       2.426592   9913.737642   0.031714   \n",
      "        YR1983  1.3055       NaN       2.553258   9864.344940   0.045618   \n",
      "        YR1984  1.4551       NaN       2.845942   9313.169412   0.050022   \n",
      "...                ...       ...            ...           ...        ...   \n",
      "QAT     YR2010  3.6400  1.858016       3.640000  67403.087678  25.324126   \n",
      "        YR2011  3.6400  2.152514       3.640000  82409.941649  29.597166   \n",
      "        YR2012  3.6400  2.186446       3.640000  85075.986537  28.315818   \n",
      "        YR2013  3.6400  2.239637       3.640000  85050.684341  25.091871   \n",
      "        YR2014  3.6400  2.364978       3.640000  83858.340458  21.305490   \n",
      "\n",
      "series          POPULATION  TOTAL_RESERVE  \n",
      "economy                                    \n",
      "DEU     YR1980    0.207430   1.047017e+11  \n",
      "        YR1981    0.152308   8.155365e+10  \n",
      "        YR1982   -0.095113   8.825023e+10  \n",
      "        YR1983   -0.262153   7.898615e+10  \n",
      "        YR1984   -0.345666   6.948515e+10  \n",
      "...                    ...            ...  \n",
      "QAT     YR2010   11.483371   3.118170e+10  \n",
      "        YR2011    9.231843   1.680949e+10  \n",
      "        YR2012    7.575373   3.318507e+10  \n",
      "        YR2013    6.201485   4.208217e+10  \n",
      "        YR2014    5.114901   4.321546e+10  \n",
      "\n",
      "[350 rows x 7 columns]\n"
     ]
    },
    {
     "data": {
      "text/plain": [
       "True"
      ]
     },
     "execution_count": 187,
     "metadata": {},
     "output_type": "execute_result"
    }
   ],
   "source": [
    "raw_df  = wb.data.DataFrame(indicator_ids, country_codes, time=range(1980, 2015))\n",
    "df = raw_df\n",
    "# print(df)\n",
    "df.reset_index()\n",
    "df = df.reset_index(level=['economy', 'series'])\n",
    "# df = df.set_axis(['country','indicators','2012','2013','2014','2015','2016','2017','2018','2019','2020'],axis=1)\n",
    "df = df.set_index('series')\n",
    "df = df.rename(index=indicator_dict)\n",
    "df = df.reset_index(level=['series'])\n",
    "df = df.set_index(['economy','series'])\n",
    "stacked = df.stack()\n",
    "df = stacked.unstack('series')\n",
    "print(df)\n",
    "df['AGRIC1'].isnull().values.any()"
   ]
  },
  {
   "cell_type": "code",
   "execution_count": 188,
   "id": "68a947f7-0bd3-4da8-a7b6-620790c96884",
   "metadata": {},
   "outputs": [],
   "source": [
    "df = norm_df(df)"
   ]
  },
  {
   "cell_type": "code",
   "execution_count": 198,
   "id": "7038b96c-49a5-4b92-a58c-6321a8390977",
   "metadata": {},
   "outputs": [
    {
     "data": {
      "image/png": "[encoded data removed]",
      "text/plain": [
       "<Figure size 360x360 with 1 Axes>"
      ]
     },
     "metadata": {
      "needs_background": "light"
     },
     "output_type": "display_data"
    },
    {
     "data": {
      "image/png": "[encoded data removed]",
      "text/plain": [
       "<Figure size 360x360 with 1 Axes>"
      ]
     },
     "metadata": {
      "needs_background": "light"
     },
     "output_type": "display_data"
    },
    {
     "data": {
      "image/png": "[encoded data removed]",
      "text/plain": [
       "<Figure size 360x360 with 1 Axes>"
      ]
     },
     "metadata": {
      "needs_background": "light"
     },
     "output_type": "display_data"
    },
    {
     "data": {
      "image/png": "[encoded data removed]",
      "text/plain": [
       "<Figure size 360x360 with 1 Axes>"
      ]
     },
     "metadata": {
      "needs_background": "light"
     },
     "output_type": "display_data"
    }
   ],
   "source": [
    "def plotGraph(df, col1, col2, color):\n",
    "    \"\"\"\n",
    "    Produces a square plot of two columns of dataframe df using small circle \n",
    "    symbols.\n",
    "    \"\"\"\n",
    "    \n",
    "    plt.figure(figsize=(5.0,5.0))\n",
    "    plt.plot(df[col1], df[col2], \"+\", markersize=3, color=color)\n",
    "    \n",
    "    plt.title(col1 + \" VS \" + col2)\n",
    "    plt.xlabel(col1)\n",
    "    plt.ylabel(col2)\n",
    "    plt.show()\n",
    "    \n",
    "    \n",
    "#plots\n",
    "plotGraph(df, \"GDP\", \"TOTAL_RESERVE\", \"r\")\n",
    "plotGraph(df, \"GDP\", \"EXCHANGE_RATE\",\"b\")\n",
    "plotGraph(df, \"GDP\", \"OIL_RENT\",\"g\")\n",
    "plotGraph(df, \"OIL_RENT\", \"POPULATION\",\"y\")"
   ]
  },
  {
   "cell_type": "code",
   "execution_count": 199,
   "id": "c574e7dc-a18c-4afb-9eb7-acb808f6e982",
   "metadata": {},
   "outputs": [
    {
     "data": {
      "image/png": "[encoded data removed]",
      "text/plain": [
       "<Figure size 360x360 with 1 Axes>"
      ]
     },
     "metadata": {
      "needs_background": "light"
     },
     "output_type": "display_data"
    }
   ],
   "source": [
    "####### kmeans set up the clusterer, 4 expected clusters\n",
    "kmeans = cluster.KMeans(n_clusters=4)\n",
    "\n",
    "# extract columns for fitting\n",
    "df_fit = df[[\"GDP\", \"TOTAL_RESERVE\"]].copy()\n",
    "kmeans.fit(df_fit)     \n",
    "\n",
    "# extract labels and cluster centres\n",
    "labels = kmeans.labels_\n",
    "cen = kmeans.cluster_centers_\n",
    "\n",
    "# plot using the labels to select colour\n",
    "plt.figure(figsize=(5.0,5.0))\n",
    "\n",
    "col = [\"blue\", \"red\", \"green\", \"magenta\"]\n",
    "for l in range(4):     # loop over the different labels\n",
    "    plt.plot(df_fit[\"GDP\"][labels==l], df_fit[\"TOTAL_RESERVE\"][labels==l], \"+\", markersize=3, color=col[l])\n",
    "    \n",
    "# show cluster centres\n",
    "for ic in range(4):\n",
    "    xc, yc = cen[ic,:]\n",
    "    plt.plot(xc, yc, \"dk\", markersize=10)\n",
    "\n",
    "plt.title(\"GDP VS TOTAL_RESERVE\")    \n",
    "plt.xlabel(\"GDP\")\n",
    "plt.ylabel(\"TOTAL_RESERVE\")\n",
    "plt.show()"
   ]
  }
 ],
 "metadata": {
  "kernelspec": {
   "display_name": "Python 3 (ipykernel)",
   "language": "python",
   "name": "python3"
  },
  "language_info": {
   "codemirror_mode": {
    "name": "ipython",
    "version": 3
   },
   "file_extension": ".py",
   "mimetype": "text/x-python",
   "name": "python",
   "nbconvert_exporter": "python",
   "pygments_lexer": "ipython3",
   "version": "3.9.7"
  }
 },
 "nbformat": 4,
 "nbformat_minor": 5
}
