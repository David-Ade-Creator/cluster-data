{
 "cells": [
  {
   "cell_type": "code",
   "execution_count": 1,
   "id": "f64b333b-7fb6-4d95-b276-3da40b2d4d7e",
   "metadata": {},
   "outputs": [],
   "source": [
    "\n",
    "Use a machine language algorithm to find distinct groups or clusters within selected dataset , here we will make use of Kmean Clustering."
   ]
  },
  {
   "cell_type": "code",
   "execution_count": null,
   "id": "4ca2f28d-e10f-4229-971a-b66ff5d6dd94",
   "metadata": {},
   "outputs": [],
   "source": [
    "import pandas as pd\n",
    "import wbgapi as wb\n",
    "import numpy as np\n",
    "import sklearn.cluster as cluster\n",
    "\n",
    "import matplotlib.pyplot as plt\n",
    "%matplotlib inline"
   ]
  },
  {
   "cell_type": "code",
   "execution_count": 183,
   "id": "f957d9d5-5eaa-4e08-a3a0-8d626a75e854",
   "metadata": {},
   "outputs": [],
   "source": [
    "def norm(array):\n",
    "    \"\"\" Returns array normalised to [0,1]. Array can be a numpy array \n",
    "    or a column of a dataframe\"\"\"\n",
    "\n",
    "    min_val = np.min(array)\n",
    "    max_val = np.max(array)\n",
    "    \n",
    "    scaled = (array-min_val) / (max_val-min_val)\n",
    "    \n",
    "    return scaled\n",
    "\n",
    "\n",
    "def norm_df(df):\n",
    "    \"\"\" \n",
    "    Returns all columns of the dataframe normalised to [0,1] with the \n",
    "    exception the first (containing the names)\n",
    "    Calls function norm to do the normalisation of one column, but\n",
    "    doing all in one function is also fine. \n",
    "    \"\"\"\n",
    "    \n",
    "    # iterate over all columns\n",
    "    for col in df.columns[1:]:     # excluding the first column\n",
    "        df[col] = norm(df[col])\n",
    "        \n",
    "    return df"
   ]
  },
  {
   "cell_type": "code",
   "execution_count": 184,
   "id": "181cbf2d-38d2-4e12-aaaa-662ee8c4735a",
   "metadata": {},
   "outputs": [],
   "source": [
    "country_codes = ['EGY','MDG','NGA','IND','JPN','QAT','ITA','ESP','FRA','DEU']"
   ]
  },
  {
   "cell_type": "code",
   "execution_count": 200,
   "id": "21d99492-7686-448e-9f95-df1930b92a06",
   "metadata": {},
   "outputs": [],
   "source": [
    "# write your code here\n",
    "\n",
    "# indicators for getting data related to specified indicator\n",
    "indicator_ids= ['FI.RES.TOTL.CD','NY.GDP.PCAP.CD','SP.POP.GROW','PA.NUS.FCRF','NY.GDP.PETR.RT.ZS']\n",
    "\n",
    "# mapping a readable name to each indicators to avoid confusion\n",
    "indicator_dict = {\n",
    "    'FI.RES.TOTL.CD':'TOTAL_RESERVE',\n",
    "    'NY.GDP.PCAP.CD':'GDP',\n",
    "    'SP.POP.GROW' : 'POPULATION',\n",
    "    'PA.NUS.FCRF':'EXCHANGE_RATE',\n",
    "    'NY.GDP.PETR.RT.ZS':'OIL_RENT',\n",
    "}"
   ]
  },
  {
   "cell_type": "code",
   "execution_count": 201,
   "id": "5c659c6f-8fa0-4ccb-bf9d-5f43d516909f",
   "metadata": {},
   "outputs": [
    {
     "data": {
      "text/html": [
       "<div class=\"wbgapi\"><table>\n",
       "<thead>\n",
       "<tr><th>id               </th><th>value                                               </th></tr>\n",
       "</thead>\n",
       "<tbody>\n",
       "<tr><td>NY.GDP.PCAP.CD   </td><td>GDP per capita (current US$)                        </td></tr>\n",
       "<tr><td>PA.NUS.FCRF      </td><td>Official exchange rate (LCU per US$, period average)</td></tr>\n",
       "<tr><td>NY.GDP.PETR.RT.ZS</td><td>Oil rents (% of GDP)                                </td></tr>\n",
       "<tr><td>SP.POP.GROW      </td><td>Population growth (annual %)                        </td></tr>\n",
       "<tr><td>FI.RES.TOTL.CD   </td><td>Total reserves (includes gold, current US$)         </td></tr>\n",
       "<tr><td>                 </td><td>5 elements                                          </td></tr>\n",
       "</tbody>\n",
       "</table></div>"
      ],
      "text/plain": [
       "id                 value\n",
       "-----------------  ----------------------------------------------------\n",
       "NY.GDP.PCAP.CD     GDP per capita (current US$)\n",
       "PA.NUS.FCRF        Official exchange rate (LCU per US$, period average)\n",
       "NY.GDP.PETR.RT.ZS  Oil rents (% of GDP)\n",
       "SP.POP.GROW        Population growth (annual %)\n",
       "FI.RES.TOTL.CD     Total reserves (includes gold, current US$)\n",
       "                   5 elements"
      ]
     },
     "execution_count": 201,
     "metadata": {},
     "output_type": "execute_result"
    }
   ],
   "source": [
    "wb.series.info(indicator_ids)"
   ]
  },
  {
   "cell_type": "code",
   "execution_count": 208,
   "id": "cfd9e9b0-3552-425a-a9a3-fde164db5e0d",
   "metadata": {},
   "outputs": [],
   "source": [
    "def read_worldbank(indicators,countries,starttimerange,endtimerange):\n",
    "    \"\"\" Read world banks data, and return both raw data frame and \n",
    "    a transposed data frame with edited index or columns names\n",
    "    \"\"\" \n",
    "    raw_df  = wb.data.DataFrame(indicator_ids, countries, time=range(starttimerange, endtimerange))\n",
    "    df = raw_df\n",
    "    df.reset_index()\n",
    "    df = df.reset_index(level=['economy', 'series'])\n",
    "    df = df.set_index('series')\n",
    "    df = df.rename(index=indicator_dict)\n",
    "    df = df.reset_index(level=['series'])\n",
    "    df = df.set_index(['economy','series'])\n",
    "    stacked = df.stack()\n",
    "    df = stacked.unstack('series')\n",
    "    return raw_df,df"
   ]
  },
  {
   "cell_type": "code",
   "execution_count": 209,
   "id": "30f6b6d3-16c0-4e15-80e0-b89535170479",
   "metadata": {},
   "outputs": [
    {
     "data": {
      "text/html": [
       "<div>\n",
       "<style scoped>\n",
       "    .dataframe tbody tr th:only-of-type {\n",
       "        vertical-align: middle;\n",
       "    }\n",
       "\n",
       "    .dataframe tbody tr th {\n",
       "        vertical-align: top;\n",
       "    }\n",
       "\n",
       "    .dataframe thead th {\n",
       "        text-align: right;\n",
       "    }\n",
       "</style>\n",
       "<table border=\"1\" class=\"dataframe\">\n",
       "  <thead>\n",
       "    <tr style=\"text-align: right;\">\n",
       "      <th></th>\n",
       "      <th>series</th>\n",
       "      <th>EXCHANGE_RATE</th>\n",
       "      <th>GDP</th>\n",
       "      <th>OIL_RENT</th>\n",
       "      <th>POPULATION</th>\n",
       "      <th>TOTAL_RESERVE</th>\n",
       "    </tr>\n",
       "    <tr>\n",
       "      <th>economy</th>\n",
       "      <th></th>\n",
       "      <th></th>\n",
       "      <th></th>\n",
       "      <th></th>\n",
       "      <th></th>\n",
       "      <th></th>\n",
       "    </tr>\n",
       "  </thead>\n",
       "  <tbody>\n",
       "    <tr>\n",
       "      <th rowspan=\"5\" valign=\"top\">DEU</th>\n",
       "      <th>YR1980</th>\n",
       "      <td>1.817667</td>\n",
       "      <td>12138.308103</td>\n",
       "      <td>0.066456</td>\n",
       "      <td>0.207430</td>\n",
       "      <td>1.047017e+11</td>\n",
       "    </tr>\n",
       "    <tr>\n",
       "      <th>YR1981</th>\n",
       "      <td>2.260000</td>\n",
       "      <td>10209.073115</td>\n",
       "      <td>0.058495</td>\n",
       "      <td>0.152308</td>\n",
       "      <td>8.155365e+10</td>\n",
       "    </tr>\n",
       "    <tr>\n",
       "      <th>YR1982</th>\n",
       "      <td>2.426592</td>\n",
       "      <td>9913.737642</td>\n",
       "      <td>0.031714</td>\n",
       "      <td>-0.095113</td>\n",
       "      <td>8.825023e+10</td>\n",
       "    </tr>\n",
       "    <tr>\n",
       "      <th>YR1983</th>\n",
       "      <td>2.553258</td>\n",
       "      <td>9864.344940</td>\n",
       "      <td>0.045618</td>\n",
       "      <td>-0.262153</td>\n",
       "      <td>7.898615e+10</td>\n",
       "    </tr>\n",
       "    <tr>\n",
       "      <th>YR1984</th>\n",
       "      <td>2.845942</td>\n",
       "      <td>9313.169412</td>\n",
       "      <td>0.050022</td>\n",
       "      <td>-0.345666</td>\n",
       "      <td>6.948515e+10</td>\n",
       "    </tr>\n",
       "  </tbody>\n",
       "</table>\n",
       "</div>"
      ],
      "text/plain": [
       "series          EXCHANGE_RATE           GDP  OIL_RENT  POPULATION  \\\n",
       "economy                                                             \n",
       "DEU     YR1980       1.817667  12138.308103  0.066456    0.207430   \n",
       "        YR1981       2.260000  10209.073115  0.058495    0.152308   \n",
       "        YR1982       2.426592   9913.737642  0.031714   -0.095113   \n",
       "        YR1983       2.553258   9864.344940  0.045618   -0.262153   \n",
       "        YR1984       2.845942   9313.169412  0.050022   -0.345666   \n",
       "\n",
       "series          TOTAL_RESERVE  \n",
       "economy                        \n",
       "DEU     YR1980   1.047017e+11  \n",
       "        YR1981   8.155365e+10  \n",
       "        YR1982   8.825023e+10  \n",
       "        YR1983   7.898615e+10  \n",
       "        YR1984   6.948515e+10  "
      ]
     },
     "execution_count": 209,
     "metadata": {},
     "output_type": "execute_result"
    }
   ],
   "source": [
    "raw_df,df = read_worldbank(indicator_ids, country_codes,1980, 2015)\n",
    "df.head()"
   ]
  },
  {
   "cell_type": "markdown",
   "id": "b539f465-fd88-4102-9c3d-2218974c71fa",
   "metadata": {},
   "source": [
    "Normalize data"
   ]
  },
  {
   "cell_type": "code",
   "execution_count": 210,
   "id": "5f2be520-4b71-4920-8355-249f58547a95",
   "metadata": {},
   "outputs": [],
   "source": [
    "df = norm_df(df)"
   ]
  },
  {
   "cell_type": "code",
   "execution_count": 211,
   "id": "7038b96c-49a5-4b92-a58c-6321a8390977",
   "metadata": {},
   "outputs": [
    {
     "data": {
      "image/png": "[encoded data removed]",
      "text/plain": [
       "<Figure size 360x360 with 1 Axes>"
      ]
     },
     "metadata": {
      "needs_background": "light"
     },
     "output_type": "display_data"
    },
    {
     "data": {
      "image/png": "[encoded data removed]",
      "text/plain": [
       "<Figure size 360x360 with 1 Axes>"
      ]
     },
     "metadata": {
      "needs_background": "light"
     },
     "output_type": "display_data"
    },
    {
     "data": {
      "image/png": "[encoded data removed]",
      "text/plain": [
       "<Figure size 360x360 with 1 Axes>"
      ]
     },
     "metadata": {
      "needs_background": "light"
     },
     "output_type": "display_data"
    },
    {
     "data": {
      "image/png": "[encoded data removed]",
      "text/plain": [
       "<Figure size 360x360 with 1 Axes>"
      ]
     },
     "metadata": {
      "needs_background": "light"
     },
     "output_type": "display_data"
    }
   ],
   "source": [
    "def plotGraph(df, col1, col2, color):\n",
    "    \"\"\"\n",
    "    Produces a square plot of two columns of dataframe df using small plus \n",
    "    symbols.\n",
    "    \"\"\"\n",
    "    \n",
    "    plt.figure(figsize=(5.0,5.0))\n",
    "    plt.plot(df[col1], df[col2], \"+\", markersize=3, color=color)\n",
    "    \n",
    "    plt.title(col1 + \" VS \" + col2)\n",
    "    plt.xlabel(col1)\n",
    "    plt.ylabel(col2)\n",
    "    plt.show()\n",
    "    \n",
    "    \n",
    "#plots\n",
    "plotGraph(df, \"GDP\", \"TOTAL_RESERVE\", \"r\")\n",
    "plotGraph(df, \"GDP\", \"EXCHANGE_RATE\",\"b\")\n",
    "plotGraph(df, \"GDP\", \"OIL_RENT\",\"g\")\n",
    "plotGraph(df, \"OIL_RENT\", \"POPULATION\",\"y\")"
   ]
  },
  {
   "cell_type": "markdown",
   "id": "c78f5dc5-5719-4569-a7ab-6b470ef1c1e5",
   "metadata": {},
   "source": [
    "Make use of Kmeans clustering to cluster datasets"
   ]
  },
  {
   "cell_type": "code",
   "execution_count": 212,
   "id": "c574e7dc-a18c-4afb-9eb7-acb808f6e982",
   "metadata": {},
   "outputs": [
    {
     "data": {
      "image/png": "[encoded data removed]",
      "text/plain": [
       "<Figure size 360x360 with 1 Axes>"
      ]
     },
     "metadata": {
      "needs_background": "light"
     },
     "output_type": "display_data"
    }
   ],
   "source": [
    "####### kmeans set up the clusterer, 4 expected clusters\n",
    "kmeans = cluster.KMeans(n_clusters=4)\n",
    "\n",
    "# extract columns for fitting\n",
    "df_fit = df[[\"GDP\", \"TOTAL_RESERVE\"]].copy()\n",
    "kmeans.fit(df_fit)     \n",
    "\n",
    "# extract labels and cluster centres\n",
    "labels = kmeans.labels_\n",
    "cen = kmeans.cluster_centers_\n",
    "\n",
    "# plot using the labels to select colour\n",
    "plt.figure(figsize=(5.0,5.0))\n",
    "\n",
    "col = [\"blue\", \"red\", \"green\", \"magenta\"]\n",
    "for l in range(4):     # loop over the different labels\n",
    "    plt.plot(df_fit[\"GDP\"][labels==l], df_fit[\"TOTAL_RESERVE\"][labels==l], \"+\", markersize=3, color=col[l])\n",
    "    \n",
    "# show cluster centres\n",
    "for ic in range(4):\n",
    "    xc, yc = cen[ic,:]\n",
    "    plt.plot(xc, yc, \"dk\", markersize=10)\n",
    "\n",
    "plt.title(\"GDP VS TOTAL_RESERVE\")    \n",
    "plt.xlabel(\"GDP\")\n",
    "plt.ylabel(\"TOTAL_RESERVE\")\n",
    "plt.show()"
   ]
  }
 ],
 "metadata": {
  "kernelspec": {
   "display_name": "Python 3 (ipykernel)",
   "language": "python",
   "name": "python3"
  },
  "language_info": {
   "codemirror_mode": {
    "name": "ipython",
    "version": 3
   },
   "file_extension": ".py",
   "mimetype": "text/x-python",
   "name": "python",
   "nbconvert_exporter": "python",
   "pygments_lexer": "ipython3",
   "version": "3.9.7"
  }
 },
 "nbformat": 4,
 "nbformat_minor": 5
}
