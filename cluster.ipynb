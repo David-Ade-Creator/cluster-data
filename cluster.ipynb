{
 "cells": [
  {
   "cell_type": "code",
   "execution_count": 20,
   "id": "f64b333b-7fb6-4d95-b276-3da40b2d4d7e",
   "metadata": {},
   "outputs": [],
   "source": [
    "import pandas as pd\n",
    "import wbgapi as wb\n",
    "import numpy as np\n",
    "import sklearn.cluster as cluster\n",
    "\n",
    "import matplotlib.pyplot as plt\n",
    "%matplotlib inline"
   ]
  },
  {
   "cell_type": "code",
   "execution_count": 281,
   "id": "f957d9d5-5eaa-4e08-a3a0-8d626a75e854",
   "metadata": {},
   "outputs": [],
   "source": [
    "def norm(array):\n",
    "    \"\"\" Returns array normalised to [0,1]. Array can be a numpy array \n",
    "    or a column of a dataframe\"\"\"\n",
    "\n",
    "    min_val = np.min(array)\n",
    "    max_val = np.max(array)\n",
    "    \n",
    "    scaled = (array-min_val) / (max_val-min_val)\n",
    "    \n",
    "    return scaled\n",
    "\n",
    "\n",
    "def norm_df(df):\n",
    "    \"\"\" \n",
    "    Returns all columns of the dataframe normalised to [0,1] with the \n",
    "    exception the first (containing the names)\n",
    "    Calls function norm to do the normalisation of one column, but\n",
    "    doing all in one function is also fine. \n",
    "    \"\"\"\n",
    "    \n",
    "    # iterate over all columns\n",
    "    for col in df.columns[1:]:     # excluding the first column\n",
    "        df[col] = norm(df[col])\n",
    "        \n",
    "    return df"
   ]
  },
  {
   "cell_type": "code",
   "execution_count": 282,
   "id": "181cbf2d-38d2-4e12-aaaa-662ee8c4735a",
   "metadata": {},
   "outputs": [],
   "source": [
    "country_codes = ['EGY','MDG','NGA','IND','JPN','QAT','ITA','ESP','FRA','DEU']"
   ]
  },
  {
   "cell_type": "code",
   "execution_count": 283,
   "id": "21d99492-7686-448e-9f95-df1930b92a06",
   "metadata": {},
   "outputs": [],
   "source": [
    "# write your code here\n",
    "\n",
    "# indicators for getting data related to specified indicator\n",
    "indicator_ids= ['FI.RES.TOTL.CD','NY.GDP.PCAP.CD','SP.POP.GROW','PA.NUS.FCRF','NY.GDP.PETR.RT.ZS']\n",
    "\n",
    "# mapping a readable name to each indicators to avoid confusion\n",
    "indicator_dict = {\n",
    "    'FI.RES.TOTL.CD':'TOTAL_RESERVE',\n",
    "    'NY.GDP.PCAP.CD':'GDP',\n",
    "    'SP.POP.GROW' : 'POPULATION',\n",
    "    'PA.NUS.FCRF':'EXCHANGE_RATE',\n",
    "    'NY.GDP.PETR.RT.ZS':'OIL_RENT'\n",
    "}"
   ]
  },
  {
   "cell_type": "code",
   "execution_count": 284,
   "id": "5c659c6f-8fa0-4ccb-bf9d-5f43d516909f",
   "metadata": {},
   "outputs": [
    {
     "data": {
      "text/html": [
       "<div class=\"wbgapi\"><table>\n",
       "<thead>\n",
       "<tr><th>id               </th><th>value                                               </th></tr>\n",
       "</thead>\n",
       "<tbody>\n",
       "<tr><td>NY.GDP.PCAP.CD   </td><td>GDP per capita (current US$)                        </td></tr>\n",
       "<tr><td>PA.NUS.FCRF      </td><td>Official exchange rate (LCU per US$, period average)</td></tr>\n",
       "<tr><td>NY.GDP.PETR.RT.ZS</td><td>Oil rents (% of GDP)                                </td></tr>\n",
       "<tr><td>SP.POP.GROW      </td><td>Population growth (annual %)                        </td></tr>\n",
       "<tr><td>FI.RES.TOTL.CD   </td><td>Total reserves (includes gold, current US$)         </td></tr>\n",
       "<tr><td>                 </td><td>5 elements                                          </td></tr>\n",
       "</tbody>\n",
       "</table></div>"
      ],
      "text/plain": [
       "id                 value\n",
       "-----------------  ----------------------------------------------------\n",
       "NY.GDP.PCAP.CD     GDP per capita (current US$)\n",
       "PA.NUS.FCRF        Official exchange rate (LCU per US$, period average)\n",
       "NY.GDP.PETR.RT.ZS  Oil rents (% of GDP)\n",
       "SP.POP.GROW        Population growth (annual %)\n",
       "FI.RES.TOTL.CD     Total reserves (includes gold, current US$)\n",
       "                   5 elements"
      ]
     },
     "execution_count": 284,
     "metadata": {},
     "output_type": "execute_result"
    }
   ],
   "source": [
    "wb.series.info(indicator_ids)"
   ]
  },
  {
   "cell_type": "code",
   "execution_count": 285,
   "id": "cfd9e9b0-3552-425a-a9a3-fde164db5e0d",
   "metadata": {},
   "outputs": [
    {
     "name": "stdout",
     "output_type": "stream",
     "text": [
      "indicators    EXCHANGE_RATE           GDP   OIL_RENT  POPULATION  \\\n",
      "country                                                            \n",
      "DEU     2012       1.082705  23694.760483   0.019089    0.135432   \n",
      "        2013       1.116533  23628.327212   0.014586    0.168225   \n",
      "        2014       1.057559  25197.265600   0.015561    0.168128   \n",
      "        2015       0.884048  30310.357596   0.016072    0.055363   \n",
      "        2016       0.803922  34106.658122   0.018199   -0.021710   \n",
      "...                     ...           ...        ...         ...   \n",
      "QAT     2016       3.640000  42124.940842  34.057801    9.978287   \n",
      "        2017       3.640000  51455.950943  38.876673   13.869735   \n",
      "        2018       3.640000  59530.561000  34.540148   16.700200   \n",
      "        2019       3.640000  65421.376917  30.798918   17.512207   \n",
      "        2020       3.640000  80234.190834  31.114773   16.475576   \n",
      "\n",
      "indicators    TOTAL_RESERVE  \n",
      "country                      \n",
      "DEU     2012   8.749687e+10  \n",
      "        2013   8.213189e+10  \n",
      "        2014   8.914254e+10  \n",
      "        2015   9.683521e+10  \n",
      "        2016   9.716997e+10  \n",
      "...                     ...  \n",
      "QAT     2016   3.414203e+09  \n",
      "        2017   4.552171e+09  \n",
      "        2018   5.394809e+09  \n",
      "        2019   9.749046e+09  \n",
      "        2020   9.996578e+09  \n",
      "\n",
      "[90 rows x 5 columns]\n"
     ]
    },
    {
     "data": {
      "text/plain": [
       "False"
      ]
     },
     "execution_count": 285,
     "metadata": {},
     "output_type": "execute_result"
    }
   ],
   "source": [
    "raw_df  = wb.data.DataFrame(indicator_ids, country_codes, time=range(2000, 2009))\n",
    "df = raw_df\n",
    "# print(df)\n",
    "df.reset_index()\n",
    "df = df.reset_index(level=['economy', 'series'])\n",
    "df = df.set_axis(['country','indicators','2012','2013','2014','2015','2016','2017','2018','2019','2020'],axis=1)\n",
    "df = df.set_index('indicators')\n",
    "df = df.rename(index=indicator_dict)\n",
    "df = df.reset_index(level=['indicators'])\n",
    "df = df.set_index(['country','indicators'])\n",
    "stacked = df.stack()\n",
    "df = stacked.unstack('indicators')\n",
    "print(df)\n",
    "df['GDP'].isnull().values.any()"
   ]
  },
  {
   "cell_type": "code",
   "execution_count": 286,
   "id": "68a947f7-0bd3-4da8-a7b6-620790c96884",
   "metadata": {},
   "outputs": [],
   "source": [
    "df = norm_df(df)"
   ]
  },
  {
   "cell_type": "code",
   "execution_count": 287,
   "id": "7038b96c-49a5-4b92-a58c-6321a8390977",
   "metadata": {},
   "outputs": [
    {
     "data": {
      "image/png": "[encoded data removed]",
      "text/plain": [
       "<Figure size 360x360 with 1 Axes>"
      ]
     },
     "metadata": {
      "needs_background": "light"
     },
     "output_type": "display_data"
    },
    {
     "data": {
      "image/png": "[encoded data removed]",
      "text/plain": [
       "<Figure size 360x360 with 1 Axes>"
      ]
     },
     "metadata": {
      "needs_background": "light"
     },
     "output_type": "display_data"
    },
    {
     "data": {
      "image/png": "[encoded data removed]",
      "text/plain": [
       "<Figure size 360x360 with 1 Axes>"
      ]
     },
     "metadata": {
      "needs_background": "light"
     },
     "output_type": "display_data"
    }
   ],
   "source": [
    "def makeplot(df, col1, col2):\n",
    "    \"\"\"\n",
    "    Produces a square plot of two columns of dataframe df using small circle \n",
    "    symbols.\n",
    "    \"\"\"\n",
    "    \n",
    "    plt.figure(figsize=(5.0,5.0))\n",
    "    plt.plot(df[col1], df[col2], \"o\", markersize=3)\n",
    "    \n",
    "    plt.xlabel(col1)\n",
    "    plt.ylabel(col2)\n",
    "    plt.show()\n",
    "    \n",
    "    \n",
    "# exploratory plots\n",
    "makeplot(df, \"GDP\", \"TOTAL_RESERVE\")\n",
    "makeplot(df, \"POPULATION\", \"EXCHANGE_RATE\")\n",
    "makeplot(df, \"GDP\", \"OIL_RENT\")"
   ]
  },
  {
   "cell_type": "code",
   "execution_count": 289,
   "id": "c574e7dc-a18c-4afb-9eb7-acb808f6e982",
   "metadata": {},
   "outputs": [
    {
     "data": {
      "image/png": "[encoded data removed]",
      "text/plain": [
       "<Figure size 360x360 with 1 Axes>"
      ]
     },
     "metadata": {
      "needs_background": "light"
     },
     "output_type": "display_data"
    }
   ],
   "source": [
    "####### kmeans set up the clusterer, 4 expected clusters\n",
    "kmeans = cluster.KMeans(n_clusters=4)\n",
    "\n",
    "# extract columns for fitting\n",
    "df_fit = df[[\"GDP\", \"TOTAL_RESERVE\"]].copy()\n",
    "kmeans.fit(df_fit)     \n",
    "\n",
    "# extract labels and cluster centres\n",
    "labels = kmeans.labels_\n",
    "cen = kmeans.cluster_centers_\n",
    "\n",
    "# plot using the labels to select colour\n",
    "plt.figure(figsize=(5.0,5.0))\n",
    "\n",
    "col = [\"blue\", \"red\", \"green\", \"magenta\"]\n",
    "for l in range(4):     # loop over the different labels\n",
    "    plt.plot(df_fit[\"GDP\"][labels==l], df_fit[\"TOTAL_RESERVE\"][labels==l], \"o\", markersize=3, color=col[l])\n",
    "    \n",
    "# show cluster centres\n",
    "for ic in range(4):\n",
    "    xc, yc = cen[ic,:]\n",
    "    plt.plot(xc, yc, \"dk\", markersize=10)\n",
    "    \n",
    "plt.xlabel(\"GDP\")\n",
    "plt.ylabel(\"TOTAL_RESERVE\")\n",
    "plt.show()"
   ]
  }
 ],
 "metadata": {
  "kernelspec": {
   "display_name": "Python 3 (ipykernel)",
   "language": "python",
   "name": "python3"
  },
  "language_info": {
   "codemirror_mode": {
    "name": "ipython",
    "version": 3
   },
   "file_extension": ".py",
   "mimetype": "text/x-python",
   "name": "python",
   "nbconvert_exporter": "python",
   "pygments_lexer": "ipython3",
   "version": "3.9.7"
  }
 },
 "nbformat": 4,
 "nbformat_minor": 5
}
