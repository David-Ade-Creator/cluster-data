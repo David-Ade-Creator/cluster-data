{
 "cells": [
  {
   "cell_type": "markdown",
   "id": "b4bf437e-fd7c-4e7e-aea7-f5213f374a01",
   "metadata": {},
   "source": [
    "David Adeyemi Runsewe (19046670)\n"
   ]
  },
  {
   "cell_type": "markdown",
   "id": "f34c2545-16fd-48dc-9e77-d1796fdea9f9",
   "metadata": {},
   "source": [
    "The aim of data fitting by assign a ‘Best fit’, function or curve is to capture trend in data that allows prediction of future behavior of data \n",
    "series, this analysis will run a data fitting on world bank data on Indians Total reserves over the provided time range using logistic \n",
    "and exponential growth model. And predictions of future values with error estimates."
   ]
  },
  {
   "cell_type": "code",
   "execution_count": 104,
   "id": "ba935ac2-8c3a-471d-94db-d86d61dbfbe0",
   "metadata": {},
   "outputs": [],
   "source": [
    "import pandas as pd\n",
    "import scipy.optimize as opt\n",
    "import numpy as np\n",
    "import wbgapi as wb\n",
    "import matplotlib.pyplot as plt"
   ]
  },
  {
   "cell_type": "code",
   "execution_count": 105,
   "id": "29f30df2-e477-4089-9bf5-91c0ca83bcd7",
   "metadata": {},
   "outputs": [],
   "source": [
    "def exp_growth(t, scale, growth):\n",
    "    \"\"\" Computes exponential function with scale and growth as free parameters\n",
    "    \"\"\"\n",
    "    f = scale * np.exp(growth * (t-1960))\n",
    "    return f\n",
    "\n",
    "def logistics(t, scale, growth, t0):\n",
    "    \"\"\" Computes logistics function with scale, growth raat\n",
    "    and time of the turning point as free parameters\n",
    "    \"\"\"\n",
    "    f = scale / (1.0 + np.exp(-growth * (t - t0)))\n",
    "    return f"
   ]
  },
  {
   "cell_type": "code",
   "execution_count": 106,
   "id": "45b10f8e-4758-4258-8981-f55453fc0ce3",
   "metadata": {},
   "outputs": [],
   "source": [
    "def read_worldbank(indicators,countries,starttimerange,endtimerange):\n",
    "    \"\"\" Read world banks data, and return both raw data frame and \n",
    "    a transposed data frame with edited index or columns names\n",
    "    \"\"\"\n",
    "    raw_df = wb.data.DataFrame(indicators, countries, time=range(starttimerange, endtimerange))\n",
    "    transposed_df = raw_df.transpose()\n",
    "    transposed_df = transposed_df.reset_index()\n",
    "    transposed_df = transposed_df.set_axis(['YEARS','TOTAL_RESERVE','GDP'],axis=1)\n",
    "    #Loop through YEARS index to change years from string to Int datatype\n",
    "    transposed_df['YEARS'] = [int(x[2:]) for x in transposed_df['YEARS']]\n",
    "    return raw_df,transposed_df\n",
    "    "
   ]
  },
  {
   "cell_type": "code",
   "execution_count": 107,
   "id": "61754b05-efcb-4919-9222-d02098d2bf8d",
   "metadata": {},
   "outputs": [
    {
     "data": {
      "text/html": [
       "<div>\n",
       "<style scoped>\n",
       "    .dataframe tbody tr th:only-of-type {\n",
       "        vertical-align: middle;\n",
       "    }\n",
       "\n",
       "    .dataframe tbody tr th {\n",
       "        vertical-align: top;\n",
       "    }\n",
       "\n",
       "    .dataframe thead th {\n",
       "        text-align: right;\n",
       "    }\n",
       "</style>\n",
       "<table border=\"1\" class=\"dataframe\">\n",
       "  <thead>\n",
       "    <tr style=\"text-align: right;\">\n",
       "      <th></th>\n",
       "      <th>YEARS</th>\n",
       "      <th>TOTAL_RESERVE</th>\n",
       "      <th>GDP</th>\n",
       "    </tr>\n",
       "  </thead>\n",
       "  <tbody>\n",
       "    <tr>\n",
       "      <th>0</th>\n",
       "      <td>1960</td>\n",
       "      <td>6.745366e+08</td>\n",
       "      <td>82.188603</td>\n",
       "    </tr>\n",
       "    <tr>\n",
       "      <th>1</th>\n",
       "      <td>1961</td>\n",
       "      <td>6.663571e+08</td>\n",
       "      <td>85.354301</td>\n",
       "    </tr>\n",
       "    <tr>\n",
       "      <th>2</th>\n",
       "      <td>1962</td>\n",
       "      <td>5.127918e+08</td>\n",
       "      <td>89.881756</td>\n",
       "    </tr>\n",
       "    <tr>\n",
       "      <th>3</th>\n",
       "      <td>1963</td>\n",
       "      <td>6.078625e+08</td>\n",
       "      <td>101.126429</td>\n",
       "    </tr>\n",
       "    <tr>\n",
       "      <th>4</th>\n",
       "      <td>1964</td>\n",
       "      <td>4.991451e+08</td>\n",
       "      <td>115.537496</td>\n",
       "    </tr>\n",
       "  </tbody>\n",
       "</table>\n",
       "</div>"
      ],
      "text/plain": [
       "   YEARS  TOTAL_RESERVE         GDP\n",
       "0   1960   6.745366e+08   82.188603\n",
       "1   1961   6.663571e+08   85.354301\n",
       "2   1962   5.127918e+08   89.881756\n",
       "3   1963   6.078625e+08  101.126429\n",
       "4   1964   4.991451e+08  115.537496"
      ]
     },
     "execution_count": 107,
     "metadata": {},
     "output_type": "execute_result"
    }
   ],
   "source": [
    "raw_df,df = read_worldbank(['FI.RES.TOTL.CD','NY.GDP.PCAP.CD'],['IND'],1900,2019)\n",
    "df.head()"
   ]
  },
  {
   "cell_type": "code",
   "execution_count": 108,
   "id": "063d0845-e80c-492b-9696-535d004c2e19",
   "metadata": {},
   "outputs": [
    {
     "data": {
      "image/png": "[encoded data removed]",
      "text/plain": [
       "<Figure size 432x288 with 1 Axes>"
      ]
     },
     "metadata": {
      "needs_background": "light"
     },
     "output_type": "display_data"
    }
   ],
   "source": [
    "# A plot of our data set before fitting\n",
    "plt.scatter(df['YEARS'],df['TOTAL_RESERVE'],marker='+')\n",
    "plt.title(\"DATA TO BE FITTED\")\n",
    "plt.xlabel(\"YEARS\")\n",
    "plt.ylabel(\"TOTAL RESERVE\")\n",
    "plt.show()"
   ]
  },
  {
   "cell_type": "markdown",
   "id": "4e8f6c30-9dff-4da3-8852-29a43a4032f1",
   "metadata": {},
   "source": [
    "Here we fit exponential funtion with the initail parameters from our dataset"
   ]
  },
  {
   "cell_type": "code",
   "execution_count": 109,
   "id": "4f1ec3e9-145c-438e-b43f-8d8c7d619975",
   "metadata": {},
   "outputs": [],
   "source": [
    "# Fitting exponential growth\n",
    "popt, covar = opt.curve_fit(exp_growth, df[\"YEARS\"], df[\"TOTAL_RESERVE\"])"
   ]
  },
  {
   "cell_type": "code",
   "execution_count": 110,
   "id": "868dca79-45f8-471a-a75f-9d807da2d0db",
   "metadata": {},
   "outputs": [
    {
     "name": "stdout",
     "output_type": "stream",
     "text": [
      "Fit parameter [2.10325259e+09 9.33327320e-02]\n"
     ]
    },
    {
     "data": {
      "image/png": "[encoded data removed]",
      "text/plain": [
       "<Figure size 432x288 with 1 Axes>"
      ]
     },
     "metadata": {
      "needs_background": "light"
     },
     "output_type": "display_data"
    },
    {
     "name": "stdout",
     "output_type": "stream",
     "text": [
      "\n"
     ]
    }
   ],
   "source": [
    "print(\"Fit parameter\", popt)\n",
    "# use *popt to pass on the fit parameters\n",
    "df[\"TOTAL_RESERVE_EXP\"] = exp_growth(df[\"YEARS\"], *popt)\n",
    "\n",
    "plt.figure()\n",
    "plt.scatter(df[\"YEARS\"], df[\"TOTAL_RESERVE\"],marker=\"+\",label=\"data\")\n",
    "plt.plot(df[\"YEARS\"], df[\"TOTAL_RESERVE_EXP\"], \"--\",label=\"fit\",color='r')\n",
    "\n",
    "plt.legend()\n",
    "plt.title(\"FIRST FIT ATTEMPT\")\n",
    "plt.xlabel(\"YEARS\")\n",
    "plt.ylabel(\"TOTAL RESERVE\")\n",
    "plt.show()\n",
    "print()"
   ]
  },
  {
   "cell_type": "code",
   "execution_count": 111,
   "id": "6ba7187a-cdd4-40e8-9262-757fb3f35146",
   "metadata": {},
   "outputs": [
    {
     "name": "stdout",
     "output_type": "stream",
     "text": [
      "FIT PARAMETER [2.10337763e+09 9.33316132e-02]\n"
     ]
    },
    {
     "data": {
      "image/png": "[encoded data removed]",
      "text/plain": [
       "<Figure size 432x288 with 1 Axes>"
      ]
     },
     "metadata": {
      "needs_background": "light"
     },
     "output_type": "display_data"
    },
    {
     "name": "stdout",
     "output_type": "stream",
     "text": [
      "\n"
     ]
    }
   ],
   "source": [
    "# fit exponential growth\n",
    "popt, covar = opt.curve_fit(exp_growth, df[\"YEARS\"],\n",
    "df[\"TOTAL_RESERVE\"], p0=[7.242784e+10, 0.05])\n",
    "# much better\n",
    "print(\"FIT PARAMETER\", popt)\n",
    "df[\"TOTAL_RESERVE_EXP\"] = exp_growth(df[\"YEARS\"], *popt)\n",
    "plt.figure()\n",
    "plt.scatter(df[\"YEARS\"], df[\"TOTAL_RESERVE\"],marker='+', label=\"data\")\n",
    "plt.plot(df[\"YEARS\"], df[\"TOTAL_RESERVE_EXP\"],\"--\", label=\"fit\",color='r')\n",
    "plt.legend()\n",
    "plt.xlabel(\"YEARS\")\n",
    "plt.ylabel(\"TOTAL EXPENSE\")\n",
    "plt.title(\"FINAL FIT EXPONENTIAL GROWTH\")\n",
    "plt.show()\n",
    "print()"
   ]
  },
  {
   "cell_type": "code",
   "execution_count": 112,
   "id": "81a80d6a-30a3-4238-8478-10529710169f",
   "metadata": {},
   "outputs": [
    {
     "data": {
      "image/png": "[encoded data removed]",
      "text/plain": [
       "<Figure size 432x288 with 1 Axes>"
      ]
     },
     "metadata": {
      "needs_background": "light"
     },
     "output_type": "display_data"
    }
   ],
   "source": [
    "popt = [7.242784e+10, 0.55, 2000]\n",
    "df[\"TOTAL_RESERVE_LOG\"] = logistics(df[\"YEARS\"], *popt)\n",
    "plt.figure()\n",
    "plt.scatter(df[\"YEARS\"], df[\"TOTAL_RESERVE\"],marker='+', label=\"data\")\n",
    "plt.plot(df[\"YEARS\"], df[\"TOTAL_RESERVE_LOG\"],\"--\", label=\"fit\",color='r')\n",
    "plt.legend()\n",
    "plt.xlabel(\"YEARS\")\n",
    "plt.ylabel(\"TOTAL RESERVE\")\n",
    "plt.title(\"IMPROVED START VALUE\")\n",
    "plt.show()"
   ]
  },
  {
   "cell_type": "code",
   "execution_count": 113,
   "id": "5c127433-418c-46a1-9730-56f057dd37c8",
   "metadata": {},
   "outputs": [
    {
     "name": "stdout",
     "output_type": "stream",
     "text": [
      "FIT PARAMETER [3.85777938e+11 2.97937034e-01 2.00620759e+03]\n"
     ]
    },
    {
     "data": {
      "image/png": "[encoded data removed]",
      "text/plain": [
       "<Figure size 432x288 with 1 Axes>"
      ]
     },
     "metadata": {
      "needs_background": "light"
     },
     "output_type": "display_data"
    }
   ],
   "source": [
    "popt, covar = opt.curve_fit(logistics, df[\"YEARS\"], df[\"TOTAL_RESERVE\"],\n",
    "p0=(7.242784e+10, 0.05, 1980.0))\n",
    "print(\"FIT PARAMETER\", popt)\n",
    "df[\"TOTAL_RESERVE_LOG\"] = logistics(df[\"YEARS\"], *popt)\n",
    "plt.figure()\n",
    "plt.title(\"LOGISTICS FUNCTION\")\n",
    "plt.scatter(df[\"YEARS\"], df[\"TOTAL_RESERVE\"],marker='+', label='data')\n",
    "plt.plot(df[\"YEARS\"], df[\"TOTAL_RESERVE_LOG\"],\"--\", label=\"fit\",color='r')\n",
    "plt.legend()\n",
    "plt.xlabel(\"YEARS\")\n",
    "plt.ylabel(\"TOTAL RESERVE\")\n",
    "plt.show()"
   ]
  },
  {
   "cell_type": "code",
   "execution_count": 114,
   "id": "120d501c-1ced-46d3-bd3e-dcf20152b2c3",
   "metadata": {},
   "outputs": [],
   "source": [
    "def err_ranges(x, func, param, sigma):\n",
    "    \"\"\"\n",
    "    Calculates the upper and lower limits for the function, parameters and\n",
    "    sigmas for single value or array x. Functions values are calculated for \n",
    "    all combinations of +/- sigma and the minimum and maximum is determined.\n",
    "    Can be used for all number of parameters and sigmas >=1.\n",
    "    \n",
    "    This routine can be used in assignment programs.\n",
    "    \"\"\"\n",
    "\n",
    "    import itertools as iter\n",
    "    \n",
    "    # initiate arrays for lower and upper limits\n",
    "    lower = func(x, *param)\n",
    "    upper = lower\n",
    "    \n",
    "    uplow = []   # list to hold upper and lower limits for parameters\n",
    "    for p,s in zip(param, sigma):\n",
    "        pmin = p - s\n",
    "        pmax = p + s\n",
    "        uplow.append((pmin, pmax))\n",
    "        \n",
    "    pmix = list(iter.product(*uplow))\n",
    "    \n",
    "    for p in pmix:\n",
    "        y = func(x, *p)\n",
    "        lower = np.minimum(lower, y)\n",
    "        upper = np.maximum(upper, y)\n",
    "        \n",
    "    return lower, upper   "
   ]
  },
  {
   "cell_type": "code",
   "execution_count": 115,
   "id": "3501247f-20ee-4011-939e-5f7ff2145b31",
   "metadata": {},
   "outputs": [
    {
     "name": "stdout",
     "output_type": "stream",
     "text": [
      "[1.03340023e+10 2.02874218e-02 3.12301929e-01]\n"
     ]
    },
    {
     "data": {
      "image/png": "[encoded data removed]",
      "text/plain": [
       "<Figure size 432x288 with 1 Axes>"
      ]
     },
     "metadata": {
      "needs_background": "light"
     },
     "output_type": "display_data"
    }
   ],
   "source": [
    "# extract the sigmas from the diagonal of the covariance matrix\n",
    "sigma = np.sqrt(np.diag(covar))\n",
    "print(sigma)\n",
    "\n",
    "low, up = err_ranges(df[\"YEARS\"], logistics, popt, sigma)\n",
    "\n",
    "plt.figure()\n",
    "plt.title(\"LOGISTICS FUNCTION\")\n",
    "plt.scatter(df[\"YEARS\"], df[\"TOTAL_RESERVE\"],marker='+', label=\"data\")\n",
    "plt.plot(df[\"YEARS\"], df[\"TOTAL_RESERVE_LOG\"],\"--\", label=\"fit\",color='r')\n",
    "\n",
    "plt.fill_between(df[\"YEARS\"], low, up, alpha=0.7)\n",
    "plt.legend()\n",
    "plt.xlabel(\"YEARS\")\n",
    "plt.ylabel(\"TOTAL RESERVE\")\n",
    "plt.show()\n"
   ]
  },
  {
   "cell_type": "markdown",
   "id": "34714314-f75e-402f-9858-b479d15f32a6",
   "metadata": {},
   "source": [
    "Predictions of future values with error estimates."
   ]
  },
  {
   "cell_type": "code",
   "execution_count": 116,
   "id": "c8570de4-ecfc-43c8-a92a-4e29fc779c64",
   "metadata": {},
   "outputs": [
    {
     "name": "stdout",
     "output_type": "stream",
     "text": [
      "    YEARS  TOTAL_RESERVE          GDP  TOTAL_RESERVE_EXP  TOTAL_RESERVE_LOG\n",
      "54   2014   3.250810e+11  1573.885642       3.248786e+11       3.513103e+11\n",
      "55   2015   3.533191e+11  1605.605445       3.566601e+11       3.595881e+11\n",
      "56   2016   3.616943e+11  1732.554242       3.915506e+11       3.659898e+11\n",
      "57   2017   4.126138e+11  1980.667020       4.298543e+11       3.708915e+11\n",
      "58   2018   3.991672e+11  1996.915087       4.719052e+11       3.746161e+11\n",
      "\n",
      "Forcasted total expenses\n",
      "2028 between  374481609811.0777 and 395763206079.9359\n",
      "2038 between  375383880461.76263 and 396097458229.7787\n",
      "2048 between  375440196249.1628 and 396111339359.6892\n"
     ]
    }
   ],
   "source": [
    "print(df.tail())\n",
    "print()\n",
    "print(\"Forcasted total expenses\")\n",
    "low, up = err_ranges(2028, logistics, popt, sigma)\n",
    "print(\"2028 between \", low, \"and\", up)\n",
    "low, up = err_ranges(2038, logistics, popt, sigma)\n",
    "print(\"2038 between \", low, \"and\", up)\n",
    "low, up = err_ranges(2048, logistics, popt, sigma)\n",
    "print(\"2048 between \", low, \"and\", up)"
   ]
  }
 ],
 "metadata": {
  "kernelspec": {
   "display_name": "Python 3 (ipykernel)",
   "language": "python",
   "name": "python3"
  },
  "language_info": {
   "codemirror_mode": {
    "name": "ipython",
    "version": 3
   },
   "file_extension": ".py",
   "mimetype": "text/x-python",
   "name": "python",
   "nbconvert_exporter": "python",
   "pygments_lexer": "ipython3",
   "version": "3.9.7"
  }
 },
 "nbformat": 4,
 "nbformat_minor": 5
}
